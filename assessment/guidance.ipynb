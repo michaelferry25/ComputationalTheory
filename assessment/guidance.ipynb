{
 "cells": [
  {
   "cell_type": "markdown",
   "id": "6a71c7e7",
   "metadata": {},
   "source": [
    "# Assessment Guidance"
   ]
  },
  {
   "cell_type": "markdown",
   "id": "c0cd1be5",
   "metadata": {},
   "source": [
    "Here you will find guidance based on our experience in delivering this and other modules to students over the past several semesters.\n",
    "You should treat it as a form of [feed-forward](https://www.tandfonline.com/doi/full/10.1080/02602938.2022.2073434).\n"
   ]
  },
  {
   "cell_type": "markdown",
   "id": "ad6889f5",
   "metadata": {},
   "source": [
    "## Common Pitfalls\n",
    "\n",
    "The following are some of the most common pitfalls past students have encountered.\n",
    "\n",
    "1. Not carefully following the assessment instructions, marking scheme, and advice. Students often miss key requirements by skimming the documentation. We strongly recommend you re-read the assessment instructions and any related guidelines several times throughout the assessment period.\n",
    "\n",
    "2. Leaving most of the work until the end. This assessment is designed for steady, consistent progress. Leaving work until the last minute is not a good idea, as regular Git commits and problem solving are part of the assessment. While some students feel they should be allowed to complete the assessment as they see fit, this assessment is based on standard professional practice: companies expect steady, version-controlled progress. You need something to show at any stage during the assessment time frame.\n",
    "\n",
    "3. Untidy work. Some students forget to structure their repositories properly. They lose marks for simple, easy-to-fix issues. This includes typos and grammatical errors.\n",
    "\n",
    "4. Submitting notebooks or code without explanations. Your work must include clear comments, markdown explanations, and other documentation to show your understanding. Code alone is not enough. Likewise, code needs to be broken down into small code cells.\n",
    "\n",
    "5. Taking another student's word for it. Don't rely on another student's understanding of the assessment requirements. It's up to you to cover the module and assessment materials. If you are unsure of something, ask the lecturer. It's not fair on the other student as it's your responsibility to complete the assessment correctly."
   ]
  },
  {
   "cell_type": "markdown",
   "id": "5ff2aede",
   "metadata": {},
   "source": [
    "## Creating a Repository\n",
    "\n",
    "The following steps can be completed entirely in a web browser.\n",
    "If you don’t already have a GitHub account, go to [GitHub](https://github.com) and sign up:\n",
    "\n",
    "1. Follow the on-screen instructions to create your account.\n",
    "2. Choose a professional username that you would feel comfortable including on your CV.\n",
    "3. Open the new repository page at [github.com/new](https://github.com/new).  \n",
    "4. Fill in the details:\n",
    "   - `Repository name`: Use a meaningful name (e.g., the module name).\n",
    "     Ensure the name contains only lowercase letters, underscores, or hyphens (no spaces).\n",
    "   - `Choose visibility`: I recommend leaving the repository as `Public`.\n",
    "     If you choose `Private`, you must [add `ianmcloughlin` as a collaborator](https://docs.github.com/en/account-and-profile/setting-up-and-managing-your-personal-account-on-github/managing-access-to-your-personal-repositories/inviting-collaborators-to-a-personal-repository).\n",
    "   - Slide `Add README` to On.\n",
    "   - From the `Add .gitignore` dropdown, select `Python`.\n",
    "   - Leave the `Add license` option as `No license`, unless you want to add one.\n",
    "5. Click `Create repository` and you will be redirected to your newly created repository.\n",
    "6. Copy the URL of your repository from your browser’s address bar.\n",
    "   It should look like this:  \n",
    "   `https://github.com/username/reponame`.\n",
    "7. Paste this URL into the submission form linked in the [assessment instructions](assessment.md#submission).\n"
   ]
  },
  {
   "cell_type": "markdown",
   "id": "7a4caa55",
   "metadata": {},
   "source": [
    "## Private Repositories\n",
    "\n",
    "You can make your repository private, if you wish.\n",
    "However, you must add `ianmcloughlin` [as a collaborator](https://docs.github.com/en/account-and-profile/setting-up-and-managing-your-personal-account-on-github/managing-access-to-your-personal-repositories/inviting-collaborators-to-a-personal-repository#inviting-a-collaborator-to-a-personal-repository).\n"
   ]
  },
  {
   "cell_type": "markdown",
   "id": "70cd6874",
   "metadata": {},
   "source": [
    "\n",
    "## GitHub Usernames\n",
    "\n",
    "Your GitHub username is visible to potential employers, so choose carefully.\n",
    "Using your real name is fine, but a reasonable pseudonym works too.\n",
    "I would avoid using your student number as you might want to continue to use your account after you graduate.\n",
    "\n",
    "To change your username, follow [GitHub's instructions](https://docs.github.com/en/account-and-profile/setting-up-and-managing-your-personal-account-on-github/managing-user-account-settings/changing-your-github-username).\n"
   ]
  },
  {
   "cell_type": "markdown",
   "id": "6e85c0a0",
   "metadata": {},
   "source": [
    "## Referencing\n",
    "\n",
    "In Jupyter notebooks, references should be included as [hyperlinks](https://docs.github.com/en/get-started/writing-on-github/getting-started-with-writing-and-formatting-on-github/basic-writing-and-formatting-syntax#links), similar to a web page.\n",
    "Unlike in word documents, PDFs, or books, references do not need to be listed at the end.\n",
    "They should be placed where they are used, with context provided as to what they are and why they are relevant.\n",
    "The key is to keep them clear and easy to read.\n",
    "\n",
    "For example, in a Markdown cell:\n",
    "\n",
    "```markdown\n",
    "The `numpy.array` function ([see official documentation](https://numpy.org/doc/stable/reference/generated/numpy.array.html)) creates an array from a list or other data structure.\n",
    "```\n",
    "\n",
    "This renders as follows:\n",
    "\n",
    "> The `numpy.array` function ([see official documentation](https://numpy.org/doc/stable/reference/generated/numpy.array.html)) creates an array from a list or other data structure.\n",
    "\n",
    "And in a code cell:\n",
    "\n",
    "```python\n",
    "# The numpy.array function creates arrays from data structures.\n",
    "# See: https://numpy.org/doc/stable/reference/generated/numpy.array.html\n",
    "x = np.array([1, 2, 3])\n",
    "```\n",
    "\n",
    "There is no point in listing URLs at the end of a document without explaining their relevance to the submission.\n"
   ]
  },
  {
   "cell_type": "markdown",
   "id": "0d915109",
   "metadata": {},
   "source": [
    "\n",
    "## Avoiding Plagiarism\n",
    "\n",
    "Follow ATU's [policies on plagiarism](https://studenthub.atu.ie) and the Student Code.\n",
    "If you are unsure about anything, ask your lecturer.\n",
    "Always give credit for ideas, text, or code that are not your own.\n"
   ]
  },
  {
   "cell_type": "markdown",
   "id": "0aa1d6ee",
   "metadata": {},
   "source": [
    "## Narratives\n",
    "\n",
    "Notebooks are for explanations, not just coding - they should tell a story.\n",
    "Students often focus too much [on writing and optimizing code](https://wiki.c2.com/?PrematureOptimization) and not enough on communicating their thinking.\n",
    "However, employers consistently tell us they value presentation, explanation, and project management more than [clever code](https://peps.python.org/pep-0020/).\n",
    "\n",
    "In practice, it is much more important that you know how to find reliable libraries, packages, or sources, and can figure out how to use them.\n",
    "It is incredibly unlikely you will do better than decades of research by experts when designing your own algorithm to solve a problem.\n",
    "Often, you'll think your problem is unique, but proper research usually shows that it's been solved before.\n",
    "\n",
    "A quick look at the marking scheme will convince you that less than half of the marks are going for coding.\n",
    "There are more marks for well-presented work, clear project management using Git, and demonstrating that your work was well researched and informed by reputable sources.\n",
    "Note the word *demonstrate* in the last sentence - you can only get marks for the contents of your repository, not what is in your head.\n",
    "\n",
    "\n"
   ]
  },
  {
   "cell_type": "markdown",
   "id": "0599ece9",
   "metadata": {},
   "source": [
    "## Explaining Your Code\n",
    "\n",
    "Code cells in notebooks should be short.\n",
    "Sometimes you need to define a function and most of the code has to go in a single cell.\n",
    "Note that larger functions can usually be broken down into small functions.\n",
    "However, when you really do need to put a lot of code in one cell, you should explain the most important statements separately using code and markdown cells.\n",
    "\n",
    "For example, consider the following function that calculates the population standard deviation of a list of numbers."
   ]
  },
  {
   "cell_type": "code",
   "execution_count": 1,
   "id": "0c6063dd",
   "metadata": {},
   "outputs": [],
   "source": [
    "def standard_deviation(data):\n",
    "    if len(data) == 0:\n",
    "        raise ValueError(\"The data list is empty.\")\n",
    "\n",
    "    mean = sum(data) / len(data)\n",
    "    squared_diffs = [(x - mean) ** 2 for x in data]\n",
    "    variance = sum(squared_diffs) / len(data)\n",
    "    return variance**0.5"
   ]
  },
  {
   "cell_type": "code",
   "execution_count": 2,
   "id": "67a94bd2",
   "metadata": {},
   "outputs": [
    {
     "data": {
      "text/plain": [
       "1.4142135623730951"
      ]
     },
     "execution_count": 2,
     "metadata": {},
     "output_type": "execute_result"
    }
   ],
   "source": [
    "standard_deviation([1,2,3,4,5])"
   ]
  },
  {
   "cell_type": "markdown",
   "id": "7558aa5b",
   "metadata": {},
   "source": [
    "Note that you shouldn't include uncommented code at all.\n",
    "I've included it above just for illustration.\n",
    "The first thing we should do is comment it and add a [docstring](https://realpython.com/documenting-python-code/#docstrings-background)."
   ]
  },
  {
   "cell_type": "code",
   "execution_count": 3,
   "id": "0011c25b",
   "metadata": {},
   "outputs": [],
   "source": [
    "def standard_deviation(data):\n",
    "    \"\"\"Calculate the standard deviation of a list of numbers.\"\"\"\n",
    "    # Check for an empty list.\n",
    "    if len(data) == 0:\n",
    "        # Raise an error if it is empty.\n",
    "        raise ValueError(\"The data list is empty.\")\n",
    "\n",
    "    # Calculate the mean: sum the values and divide by the number of them.\n",
    "    mean = sum(data) / len(data)\n",
    "    # Calculate the squared differences from the mean.\n",
    "    squared_diffs = [(x - mean)**2 for x in data]\n",
    "    # Calculate the variance: average of the squared differences.\n",
    "    variance = sum(squared_diffs) / len(data)\n",
    "    # Return the standard deviation: square root of the variance.\n",
    "    return variance**0.5"
   ]
  },
  {
   "cell_type": "code",
   "execution_count": 4,
   "id": "ee2850d7",
   "metadata": {},
   "outputs": [
    {
     "data": {
      "text/plain": [
       "1.4142135623730951"
      ]
     },
     "execution_count": 4,
     "metadata": {},
     "output_type": "execute_result"
    }
   ],
   "source": [
    "# Example usage.\n",
    "standard_deviation([1,2,3,4,5])"
   ]
  },
  {
   "cell_type": "markdown",
   "id": "bb4422e1",
   "metadata": {},
   "source": [
    "Some of the statements in the function are complex, so we should explain them separately, as in the following few cells."
   ]
  },
  {
   "cell_type": "markdown",
   "id": "e623cf60",
   "metadata": {},
   "source": [
    "In the `standard_deviation` function, we use a [list comprehension (Real Python: *When to Use a List Comprehension in Python*)](https://realpython.com/list-comprehension-python/) to create a new list from `data`.\n",
    "The `mean` is subtracted from each value and the result is squared using the [power operator](https://docs.python.org/3/reference/expressions.html#the-power-operator) `**`:"
   ]
  },
  {
   "cell_type": "code",
   "execution_count": 5,
   "id": "45e1ff07",
   "metadata": {},
   "outputs": [
    {
     "name": "stdout",
     "output_type": "stream",
     "text": [
      "Data: [1, 2, 3, 4, 5]\n",
      "Mean: 3.0\n",
      "Squared differences: [4.0, 1.0, 0.0, 1.0, 4.0]\n"
     ]
    }
   ],
   "source": [
    "# Example.\n",
    "data = [1, 2, 3, 4, 5]\n",
    "\n",
    "# Show data.\n",
    "print(f\"Data: {data}\")\n",
    "\n",
    "# Mean.\n",
    "mean = sum(data) / len(data)\n",
    "\n",
    "# Show mean.\n",
    "print(f\"Mean: {mean}\")\n",
    "\n",
    "# Squared differences from the mean.\n",
    "squared_diffs = [(x - mean)**2 for x in data]\n",
    "\n",
    "# Show squared differences.\n",
    "print(f\"Squared differences: {squared_diffs}\")"
   ]
  },
  {
   "cell_type": "markdown",
   "id": "3a73d09f",
   "metadata": {},
   "source": [
    "Above we use the power operator to square numbers.\n",
    "If we supply an appropriate value for the power, we can take the square root:"
   ]
  },
  {
   "cell_type": "code",
   "execution_count": 6,
   "id": "91128616",
   "metadata": {},
   "outputs": [
    {
     "name": "stdout",
     "output_type": "stream",
     "text": [
      "9**2=81\n",
      "9**0.5=3.0\n",
      "((3**2)**0.5 == 3)=True\n"
     ]
    }
   ],
   "source": [
    "# 9 squared is 81.\n",
    "print(f'{9**2=}')\n",
    "\n",
    "# The square root of 9  is 3.\n",
    "# Note we get a float in this case because the power is a float.\n",
    "print(f'{9**0.5=}')\n",
    "\n",
    "# Squaring and square root are inverse operations.\n",
    "# Note we should be more careful about floats here, but this is a simple example.\n",
    "print(f'{((3**2)**0.5 == 3)=}')"
   ]
  },
  {
   "cell_type": "markdown",
   "id": "83783ac4",
   "metadata": {},
   "source": [
    "## Feeling Overwhelmed\n",
    "\n",
    "This assessment is designed to develop your ability to think and work independently.\n",
    "Feeling unsure initially is normal.\n",
    "Start by deciding:  \n",
    "\n",
    "1. How to approach the problem.  \n",
    "2. What content to include.  \n",
    "3. How to make the work unique to you.  \n",
    "\n",
    "Employers value initiative, independence, and decision-making skills.\n",
    "Show these by planning your work, managing your time, and using online resources for research.\n"
   ]
  },
  {
   "cell_type": "markdown",
   "id": "4e6048e4",
   "metadata": {},
   "source": [
    "## Assessment Updates\n",
    "\n",
    "The assessment instructions typically remain unchanged once released.\n",
    "Sometimes there are minor edits for clarity or to fix typos, which should not affect their substance.\n",
    "Any major changes will be highlighted on the VLE.\n",
    "Note you can view the change history of any file, including the assessment instructions, by clicking the \"History\" button near the top right of its page on [github.com](https://github.com).\n"
   ]
  },
  {
   "cell_type": "markdown",
   "id": "9976fbe6",
   "metadata": {},
   "source": [
    "## Generative AI\n",
    "\n",
    "The following only applies to this module.\n",
    "Make sure you clarify the situation for any other module you take.\n",
    "\n",
    "Generative AI is everywhere, including development environments, operating systems, and search engines.\n",
    "It would be impossible enforce any stipulation that it cannot be used here.\n",
    "Instead, we designed the assessment to avoid easy completion via AI.\n",
    "\n",
    "You may use AI for your submission, but it likely won't meet the assessment criteria well.\n",
    "You need to carefully check any information or code it generates and always reference any AI platform you use.\n",
    "Most platforms offer some form of shareable links to your past conversations that can be used as references.\n"
   ]
  },
  {
   "cell_type": "markdown",
   "id": "bb8cdff4",
   "metadata": {},
   "source": [
    "## Collaborate with Others\n",
    "\n",
    "For in-house courses, the best way to collaborate is in the classroom.\n",
    "For online or blended courses, the VLE page is the best place to discuss topics with others in your class.\n",
    "We typically provide a student discussion forum there where students can ask and answer questions.\n",
    "\n",
    "Students sometimes set up groups on external platforms which are not managed by ATU.\n",
    "While lecturers do not typically join, they can be useful for collaboration.\n",
    "Remember to be polite and considerate, as tone is hard to convey in text communications.\n",
    "Note that online content is difficult to remove and ATU policies may still apply when using external platforms.\n"
   ]
  },
  {
   "cell_type": "markdown",
   "id": "4c8ca7d4",
   "metadata": {},
   "source": [
    "## Rough Work\n",
    "\n",
    "Though not necessary, you can keep your own rough work in your repository.\n",
    "This might include notes, experimental code, or copies of notebooks used in lectures or labs.\n",
    "Please store these files in a folder named `roughwork` at the root of your repository.\n",
    "Keep the contents of the `roughwork` folder well organized, following the usual conventions for filenames and the like.\n",
    "\n",
    "Please note that the contents of the `roughwork` folder will be ignored.\n",
    "It will not be considered part of your submission and will not be used to determine your grade.\n",
    "Anything that is part of your assessment submission must be clearly identified as such.\n"
   ]
  },
  {
   "cell_type": "markdown",
   "id": "b4ae039f",
   "metadata": {},
   "source": [
    "## Further Help\n",
    "\n",
    "If you have questions, ask them well in advance of the deadline.\n",
    "You can email your lecturers to ask for help.\n",
    "However, we expect you attempted the problem yourself first.\n",
    "You need to have something to show for your attempts.\n",
    "We can give you guidance on your attempts, but we can't solve the problem for you."
   ]
  },
  {
   "cell_type": "markdown",
   "id": "ccad8d32",
   "metadata": {},
   "source": [
    "## End"
   ]
  }
 ],
 "metadata": {
  "kernelspec": {
   "display_name": "tmp",
   "language": "python",
   "name": "python3"
  },
  "language_info": {
   "codemirror_mode": {
    "name": "ipython",
    "version": 3
   },
   "file_extension": ".py",
   "mimetype": "text/x-python",
   "name": "python",
   "nbconvert_exporter": "python",
   "pygments_lexer": "ipython3",
   "version": "3.13.7"
  }
 },
 "nbformat": 4,
 "nbformat_minor": 5
}
