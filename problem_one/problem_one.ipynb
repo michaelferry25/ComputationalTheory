{
 "cells": [
  {
   "cell_type": "markdown",
   "id": "ecc32729",
   "metadata": {},
   "source": [
    "# Problem 1 – Binary Words and Operations  \n",
    "**Author:** Michael Ferry  \n",
    "**Date:** October 2025 "
   ]
  },
  {
   "cell_type": "code",
   "execution_count": 6,
   "id": "9f5a47f5",
   "metadata": {},
   "outputs": [],
   "source": [
    "import numpy as np\n"
   ]
  },
  {
   "cell_type": "markdown",
   "id": "3ee31539",
   "metadata": {},
   "source": [
    "## 32-bit Integers\n",
    "\n",
    "In SHA-256 everything uses 32-bit numbers.  \n",
    "Python doesn’t do that by default, so I made a small helper that turns any number into a 32-bit one.  \n",
    "This makes sure the maths works the same way as in the standard.\n",
    "\n"
   ]
  },
  {
   "cell_type": "markdown",
   "id": "66441474",
   "metadata": {},
   "source": [
    "I used the modulo (%) operator so the number always stays in the 32-bit range (0 to 4294967295).  \n",
    "If it goes below 0 or above the limit, it wraps back around like a loop.  \n",
    "This makes it act the same way as real 32-bit hardware does in SHA-256."
   ]
  },
  {
   "cell_type": "code",
   "execution_count": 7,
   "id": "3cfbf20b",
   "metadata": {},
   "outputs": [
    {
     "name": "stdout",
     "output_type": "stream",
     "text": [
      "123\n",
      "4294967295\n"
     ]
    }
   ],
   "source": [
    "def to_uint32(x):\n",
    "\n",
    "    return np.uint32(x % (1 << 32))\n",
    "\n",
    "# Just runs a quick test to check the wrap\n",
    "print(to_uint32(123))   # normal\n",
    "print(to_uint32(-1))    # wraps around to 4294967295"
   ]
  },
  {
   "cell_type": "markdown",
   "id": "375962ec",
   "metadata": {},
   "source": [
    "## Parity Function  \n",
    "\n",
    "Parity checks three 32-bit numbers and returns 1 in places where an odd number of bits are 1.  \n",
    "I used the XOR (^) operator because it flips bits this way and works perfectly for this rule."
   ]
  },
  {
   "cell_type": "code",
   "execution_count": 9,
   "id": "b86153a4",
   "metadata": {},
   "outputs": [
    {
     "name": "stdout",
     "output_type": "stream",
     "text": [
      "0b1100\n"
     ]
    }
   ],
   "source": [
    "def Parity(x, y, z):\n",
    "    \"\"\"Gives 1 for each bit where an odd number of x, y, z bits are 1.\"\"\"\n",
    "    x, y, z = map(to_uint32, (x, y, z))\n",
    "    return x ^ y ^ z\n",
    "\n",
    "# Just runs a quick test of the parity function\n",
    "print(bin(Parity(0b1010, 0b0101, 0b0011)))\n"
   ]
  }
 ],
 "metadata": {
  "kernelspec": {
   "display_name": "Python 3",
   "language": "python",
   "name": "python3"
  },
  "language_info": {
   "codemirror_mode": {
    "name": "ipython",
    "version": 3
   },
   "file_extension": ".py",
   "mimetype": "text/x-python",
   "name": "python",
   "nbconvert_exporter": "python",
   "pygments_lexer": "ipython3",
   "version": "3.12.1"
  }
 },
 "nbformat": 4,
 "nbformat_minor": 5
}
