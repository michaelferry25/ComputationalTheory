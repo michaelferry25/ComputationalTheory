{
 "cells": [
  {
   "cell_type": "markdown",
   "id": "ecc32729",
   "metadata": {},
   "source": [
    "# Problem 1 – Binary Words and Operations  \n",
    "**Author:** Michael Ferry  \n",
    "**Date:** October 2025 "
   ]
  },
  {
   "cell_type": "code",
   "execution_count": 3,
   "id": "9f5a47f5",
   "metadata": {},
   "outputs": [],
   "source": [
    "import numpy as np\n"
   ]
  }
 ],
 "metadata": {
  "kernelspec": {
   "display_name": "Python 3",
   "language": "python",
   "name": "python3"
  },
  "language_info": {
   "codemirror_mode": {
    "name": "ipython",
    "version": 3
   },
   "file_extension": ".py",
   "mimetype": "text/x-python",
   "name": "python",
   "nbconvert_exporter": "python",
   "pygments_lexer": "ipython3",
   "version": "3.12.1"
  }
 },
 "nbformat": 4,
 "nbformat_minor": 5
}
